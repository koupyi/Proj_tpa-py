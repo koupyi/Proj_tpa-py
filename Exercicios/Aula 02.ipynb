{
 "cells": [
  {
   "cell_type": "markdown",
   "metadata": {},
   "source": [
    "# Exercicio"
   ]
  },
  {
   "cell_type": "markdown",
   "metadata": {},
   "source": [
    "<p>Liste 10 frutas ou legumes que pedrinho fez no verdurão. Utilize os laços for ou while deixando-os da seguinte forma:<p>\n",
    "<li>1 Abacaxi<br>\n",
    "<li>2 Alface<br>\n",
    "<li>3 Tomate<br>\n",
    "<li>4 Batata<br>\n",
    "<li>5 Mexerica<br>\n",
    "<li>6 Abobrinha<br>\n",
    "<li>7 Morango<br>\n",
    "<li>8 Banana<br>\n",
    "<li>9 Caju<br>\n",
    "<li>10 Uva<br>\n"
   ]
  },
  {
   "cell_type": "code",
   "execution_count": null,
   "metadata": {},
   "outputs": [
    {
     "name": "stdout",
     "output_type": "stream",
     "text": [
      "Abacaxi\n",
      "Alface\n",
      "Tomate\n",
      "Batata\n",
      "Mexerica\n",
      "Abobrinha\n",
      "Morango\n",
      "Banana\n",
      "Caju\n",
      "Uva\n"
     ]
    }
   ],
   "source": [
    "compras = [\"Abacaxi\", \"Alface\", \"Tomate\", \"Batata\", \"Mexerica\", \"Abobrinha\", \"Morango\", \"Banana\", \"Caju\", \"Uva\"]\n",
    "for c in compras:\n",
    "    print(c)"
   ]
  }
 ],
 "metadata": {
  "kernelspec": {
   "display_name": "Python 3",
   "language": "python",
   "name": "python3"
  },
  "language_info": {
   "codemirror_mode": {
    "name": "ipython",
    "version": 3
   },
   "file_extension": ".py",
   "mimetype": "text/x-python",
   "name": "python",
   "nbconvert_exporter": "python",
   "pygments_lexer": "ipython3",
   "version": "3.12.2"
  }
 },
 "nbformat": 4,
 "nbformat_minor": 2
}
