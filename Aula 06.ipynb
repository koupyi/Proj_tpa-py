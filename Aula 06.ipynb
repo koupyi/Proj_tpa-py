{
 "cells": [
  {
   "cell_type": "markdown",
   "metadata": {},
   "source": [
    "# Lista"
   ]
  },
  {
   "cell_type": "code",
   "execution_count": 9,
   "metadata": {},
   "outputs": [
    {
     "data": {
      "text/plain": [
       "5"
      ]
     },
     "execution_count": 9,
     "metadata": {},
     "output_type": "execute_result"
    }
   ],
   "source": [
    "lista = [2,5,7]\n",
    "lista[1]"
   ]
  },
  {
   "cell_type": "markdown",
   "metadata": {},
   "source": [
    "# Introdução a tupla"
   ]
  },
  {
   "cell_type": "code",
   "execution_count": 10,
   "metadata": {},
   "outputs": [
    {
     "data": {
      "text/plain": [
       "8"
      ]
     },
     "execution_count": 10,
     "metadata": {},
     "output_type": "execute_result"
    }
   ],
   "source": [
    "tupla = (6,8,9)\n",
    "tupla[1]"
   ]
  },
  {
   "cell_type": "markdown",
   "metadata": {},
   "source": [
    "## Diferenças"
   ]
  },
  {
   "cell_type": "code",
   "execution_count": 11,
   "metadata": {},
   "outputs": [
    {
     "name": "stdout",
     "output_type": "stream",
     "text": [
      "[2, 5, 7, 7]\n"
     ]
    }
   ],
   "source": [
    "lista.append(7)\n",
    "print(lista)"
   ]
  },
  {
   "cell_type": "code",
   "execution_count": 23,
   "metadata": {},
   "outputs": [
    {
     "ename": "TypeError",
     "evalue": "can only concatenate tuple (not \"int\") to tuple",
     "output_type": "error",
     "traceback": [
      "\u001b[1;31m---------------------------------------------------------------------------\u001b[0m",
      "\u001b[1;31mTypeError\u001b[0m                                 Traceback (most recent call last)",
      "Cell \u001b[1;32mIn[23], line 2\u001b[0m\n\u001b[0;32m      1\u001b[0m tupla \u001b[38;5;241m=\u001b[39m (\u001b[38;5;241m1\u001b[39m,\u001b[38;5;241m5\u001b[39m,\u001b[38;5;241m8\u001b[39m)\n\u001b[1;32m----> 2\u001b[0m tupla \u001b[38;5;241m=\u001b[39m \u001b[43mtupla\u001b[49m\u001b[43m \u001b[49m\u001b[38;5;241;43m+\u001b[39;49m\u001b[43m \u001b[49m\u001b[38;5;241;43m1\u001b[39;49m\n\u001b[0;32m      3\u001b[0m \u001b[38;5;28mprint\u001b[39m(tupla)\n",
      "\u001b[1;31mTypeError\u001b[0m: can only concatenate tuple (not \"int\") to tuple"
     ]
    }
   ],
   "source": [
    "tupla = (1,5,8)\n",
    "tupla = tupla + 1\n",
    "print(tupla)"
   ]
  },
  {
   "cell_type": "code",
   "execution_count": 15,
   "metadata": {},
   "outputs": [],
   "source": [
    "dicionario = {\n",
    "    \"curso\":\"desenvolvimento de sistemas\",\n",
    "    \"ano\":\"2024\",\n",
    "    \"modulo\": \"Tecnico\",\n",
    "    \"Professor\":\"Gustavo\"\n",
    "    }"
   ]
  },
  {
   "cell_type": "code",
   "execution_count": 18,
   "metadata": {},
   "outputs": [
    {
     "name": "stdout",
     "output_type": "stream",
     "text": [
      "desenvolvimento de sistemas\n",
      "2024\n",
      "Tecnico\n",
      "Gustavo\n"
     ]
    }
   ],
   "source": [
    "print(dicionario[\"curso\"])\n",
    "print(dicionario[\"ano\"])\n",
    "print(dicionario[\"modulo\"])\n",
    "print(dicionario[\"Professor\"])"
   ]
  },
  {
   "cell_type": "code",
   "execution_count": 21,
   "metadata": {},
   "outputs": [
    {
     "name": "stdout",
     "output_type": "stream",
     "text": [
      "9.5\n"
     ]
    }
   ],
   "source": [
    "dicionario[\"nota\"] = 9.5\n",
    "print(dicionario[\"nota\"])"
   ]
  },
  {
   "cell_type": "code",
   "execution_count": 20,
   "metadata": {},
   "outputs": [
    {
     "name": "stdout",
     "output_type": "stream",
     "text": [
      "curso\n",
      "ano\n",
      "modulo\n",
      "Professor\n"
     ]
    }
   ],
   "source": [
    "for x in dicionario.keys():\n",
    "    print(x)"
   ]
  },
  {
   "cell_type": "markdown",
   "metadata": {},
   "source": [
    "## Exercicio"
   ]
  },
  {
   "cell_type": "markdown",
   "metadata": {},
   "source": [
    "### Parte 1"
   ]
  },
  {
   "cell_type": "code",
   "execution_count": 24,
   "metadata": {},
   "outputs": [
    {
     "name": "stdout",
     "output_type": "stream",
     "text": [
      "Matricula: \n",
      "{'codigo': '1512', 'data': '10/8', 'curso': 'DS'}\n",
      "Aluno: \n",
      "{'registro': '41231', 'nome': 'Hector'}\n",
      "Disciplina: \n",
      "{'registro': '3234', 'nome': 'Hector', 'professor': 'Gustavo'}\n"
     ]
    }
   ],
   "source": [
    "matriculas = {\n",
    "    \"codigo\":\"1512\",\n",
    "    \"data\":\"10/8\",\n",
    "    \"curso\":\"DS\"\n",
    "}\n",
    "aluno = {\n",
    "    \"registro\":\"41231\",\n",
    "    \"nome\":\"Hector\"\n",
    "}\n",
    "\n",
    "diciplina = {\n",
    "  \"registro\":\"3234\",\n",
    "  \"nome\":\"Hector\",\n",
    "  \"professor\":\"Gustavo\"\n",
    "}\n",
    "\n",
    "escola = (\"Matricula: \",matriculas,\"Aluno: \",aluno,\"Disciplina: \",diciplina)\n",
    "for z in escola:\n",
    "  print(z)"
   ]
  },
  {
   "cell_type": "markdown",
   "metadata": {},
   "source": [
    "### Parte 2"
   ]
  },
  {
   "cell_type": "code",
   "execution_count": 25,
   "metadata": {},
   "outputs": [
    {
     "name": "stdout",
     "output_type": "stream",
     "text": [
      "Vendedor: \n",
      "{'registro': '4231', 'nome': 'João', 'curso': 'Vendas'}\n",
      "Produto: \n",
      "{'id': '42332', 'nome': 'Caderno', 'fabricante': 'Foroni'}\n",
      "Venda: \n",
      "{'reg_venda': '12314', 'id_produto': '224', 'valor': '10,99'}\n"
     ]
    }
   ],
   "source": [
    "Vendedor = {\n",
    "    \"registro\":\"4231\",\n",
    "    \"nome\":\"João\",\n",
    "    \"curso\":\"Vendas\"\n",
    "}\n",
    "\n",
    "Produto = {\n",
    "    \"id\":\"42332\",\n",
    "    \"nome\":\"Caderno\",\n",
    "    \"fabricante\":\"Foroni\"   \n",
    "}\n",
    "\n",
    "Venda = {\n",
    "    \"reg_venda\":\"12314\",\n",
    "    \"id_produto\":\"224\",\n",
    "    \"valor\":\"10,99\"\n",
    "}\n",
    "\n",
    "casas_baiano = (\"Vendedor: \",Vendedor,\"Produto: \",Produto,\"Venda: \",Venda)\n",
    "for y in casas_baiano:\n",
    "    print(y)"
   ]
  }
 ],
 "metadata": {
  "kernelspec": {
   "display_name": "Python 3",
   "language": "python",
   "name": "python3"
  },
  "language_info": {
   "codemirror_mode": {
    "name": "ipython",
    "version": 3
   },
   "file_extension": ".py",
   "mimetype": "text/x-python",
   "name": "python",
   "nbconvert_exporter": "python",
   "pygments_lexer": "ipython3",
   "version": "3.11.9"
  }
 },
 "nbformat": 4,
 "nbformat_minor": 2
}
