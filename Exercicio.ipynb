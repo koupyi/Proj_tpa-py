{
 "cells": [
  {
   "cell_type": "markdown",
   "metadata": {},
   "source": [
    "# Hector W. S. Oliveira"
   ]
  },
  {
   "cell_type": "markdown",
   "metadata": {},
   "source": [
    "> Exercicio de laços de repetição e Estrutura de decisão"
   ]
  },
  {
   "cell_type": "code",
   "execution_count": 20,
   "metadata": {},
   "outputs": [
    {
     "name": "stdout",
     "output_type": "stream",
     "text": [
      "133.0\n"
     ]
    }
   ],
   "source": [
    "deposito = 500\n",
    "pix = 200\n",
    "doc = 140\n",
    "idade = 61\n",
    "\n",
    "if(idade >= 60):\n",
    "    doc = doc - (doc * 0.05)\n",
    "\n",
    "print(doc)"
   ]
  },
  {
   "cell_type": "markdown",
   "metadata": {},
   "source": [
    "Atividade 2"
   ]
  },
  {
   "cell_type": "code",
   "execution_count": 21,
   "metadata": {},
   "outputs": [
    {
     "name": "stdout",
     "output_type": "stream",
     "text": [
      "12175.0\n"
     ]
    }
   ],
   "source": [
    "saldo = 50000\n",
    "preço  = 44500\n",
    "\n",
    "if(idade <= 30):\n",
    "    preço = preço - preço * 0.05\n",
    "else:\n",
    "    if(idade <= 50):\n",
    "        preço = preço - preço * 0.12\n",
    "    else:\n",
    "        if(idade > 50):\n",
    "             preço = preço - preço * 0.15\n",
    "\n",
    "sf = saldo - preço\n",
    "print(sf)"
   ]
  }
 ],
 "metadata": {
  "kernelspec": {
   "display_name": "Python 3",
   "language": "python",
   "name": "python3"
  },
  "language_info": {
   "codemirror_mode": {
    "name": "ipython",
    "version": 3
   },
   "file_extension": ".py",
   "mimetype": "text/x-python",
   "name": "python",
   "nbconvert_exporter": "python",
   "pygments_lexer": "ipython3",
   "version": "3.12.2"
  }
 },
 "nbformat": 4,
 "nbformat_minor": 2
}
