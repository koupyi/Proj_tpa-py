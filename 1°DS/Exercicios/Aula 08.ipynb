{
 "cells": [
  {
   "cell_type": "code",
   "execution_count": 5,
   "metadata": {},
   "outputs": [],
   "source": [
    "class Fila:\n",
    "    def _init_(self):\n",
    "        self.fila = []\n",
    "\n",
    "\n",
    "    def enfileirar(self, item):\n",
    "        self.fila.append(item)\n",
    "        print(f\"{item} foi adicionado à fila\")\n",
    "\n",
    "\n",
    "    def vazio(self):\n",
    "        return len(self.fila == 0)\n",
    "\n",
    "    def desenfilirar(self):\n",
    "        if not self.vazio():\n",
    "            item = self.fila.pop(0)\n",
    "            print(f\"{item} foi removido da sua lista\")\n",
    "        else:\n",
    "            print(\"A lista está vazia\")\n",
    "            return 0 \n",
    "        D"
   ]
  },
  {
   "cell_type": "markdown",
   "metadata": {},
   "source": []
  },
  {
   "cell_type": "code",
   "execution_count": null,
   "metadata": {},
   "outputs": [],
   "source": []
  }
 ],
 "metadata": {
  "kernelspec": {
   "display_name": "Python 3",
   "language": "python",
   "name": "python3"
  },
  "language_info": {
   "codemirror_mode": {
    "name": "ipython",
    "version": 3
   },
   "file_extension": ".py",
   "mimetype": "text/x-python",
   "name": "python",
   "nbconvert_exporter": "python",
   "pygments_lexer": "ipython3",
   "version": "3.12.4"
  }
 },
 "nbformat": 4,
 "nbformat_minor": 2
}
