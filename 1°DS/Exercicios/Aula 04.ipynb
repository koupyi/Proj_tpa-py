{
 "cells": [
  {
   "cell_type": "markdown",
   "metadata": {},
   "source": [
    "## Exercício"
   ]
  },
  {
   "cell_type": "markdown",
   "metadata": {},
   "source": [
    "### Parte 1"
   ]
  },
  {
   "cell_type": "markdown",
   "metadata": {},
   "source": [
    ">Crie um programa que calcule 5 valores dentro de uma lista chamada celsius. crie uma nova lista vazia chamada fehrenheit e armazene a conversão dos valores de celsius utilizando lambda com map. No final exiba o valor da lista de fehrenheit"
   ]
  },
  {
   "cell_type": "code",
   "execution_count": null,
   "metadata": {},
   "outputs": [
    {
     "name": "stdout",
     "output_type": "stream",
     "text": [
      "[79, 86, 59, 45, 68]\n"
     ]
    }
   ],
   "source": [
    "celsius = [26, 30, 15, 7, 20]\n",
    "fh =[]\n",
    "for y in celsius:\n",
    "    fh = list(map(lambda y: round(y*1.8+32),celsius))\n",
    "print(fh)"
   ]
  },
  {
   "cell_type": "markdown",
   "metadata": {},
   "source": [
    "### Parte 2"
   ]
  },
  {
   "cell_type": "markdown",
   "metadata": {},
   "source": [
    "> Crie um código chamado baskhara, ele deverá ter uma rotina que ao ser criada retornará x' e x\". Os valores de entrada deverão ser os de delta (a,b,c) e o x. Se o usuário escolher 1 deverá retornar x\". Insira todas as regras de baskhara. "
   ]
  },
  {
   "cell_type": "code",
   "execution_count": null,
   "metadata": {},
   "outputs": [],
   "source": [
    "import math\n",
    "def baskhara(a,b,c,x):\n",
    "    if(a==0):\n",
    "        res = \"Impossivel\"\n",
    "    else:\n",
    "        delta = (b*b) - (4*a*c)\n",
    "        if(delta < 0):\n",
    "            res = \"Impossivel\"\n",
    "        else:\n",
    "            if(x==1):\n",
    "                res = (-b+math.sqrt (delta))/(2*a) \n",
    "            if(x==2):\n",
    "                res = (-b-math.sqrt (delta))/(2*a) \n",
    "    return res"
   ]
  },
  {
   "cell_type": "code",
   "execution_count": null,
   "metadata": {},
   "outputs": [
    {
     "data": {
      "text/plain": [
       "-18.20725261669446"
      ]
     },
     "metadata": {},
     "output_type": "display_data"
    }
   ],
   "source": [
    "baskhara(7,128,10,2)"
   ]
  }
 ],
 "metadata": {
  "kernelspec": {
   "display_name": "Python 3",
   "language": "python",
   "name": "python3"
  },
  "language_info": {
   "codemirror_mode": {
    "name": "ipython",
    "version": 3
   },
   "file_extension": ".py",
   "mimetype": "text/x-python",
   "name": "python",
   "nbconvert_exporter": "python",
   "pygments_lexer": "ipython3",
   "version": "3.12.2"
  }
 },
 "nbformat": 4,
 "nbformat_minor": 2
}
