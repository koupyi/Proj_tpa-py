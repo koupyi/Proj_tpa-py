{
 "cells": [
  {
   "cell_type": "markdown",
   "metadata": {},
   "source": [
    "> Atividade 1"
   ]
  },
  {
   "cell_type": "code",
   "execution_count": 3,
   "metadata": {},
   "outputs": [
    {
     "name": "stdout",
     "output_type": "stream",
     "text": [
      "[16, 21, 36, 42, 57, 59, 69, 73, 97, 99]\n"
     ]
    }
   ],
   "source": [
    "import random\n",
    "def ordenar_c():\n",
    " \n",
    "    crescente = [random.randint(0, 100) for x in range(10)]\n",
    "    \n",
    "    crescente.sort()\n",
    "    \n",
    "    print(crescente)\n",
    "\n",
    "ordenar_c()"
   ]
  },
  {
   "cell_type": "markdown",
   "metadata": {},
   "source": [
    "> Atividade 2"
   ]
  },
  {
   "cell_type": "code",
   "execution_count": 4,
   "metadata": {},
   "outputs": [
    {
     "name": "stdout",
     "output_type": "stream",
     "text": [
      "[8, 8, 6, 5, 0]\n"
     ]
    }
   ],
   "source": [
    "def ordenar_d():\n",
    " \n",
    "    decresente = [random.randint(0, 10) for i in range(5)]\n",
    "    \n",
    "    decresente.sort(reverse=True)\n",
    "    \n",
    "    print(decresente)\n",
    "\n",
    "ordenar_d()"
   ]
  }
 ],
 "metadata": {
  "kernelspec": {
   "display_name": "Python 3",
   "language": "python",
   "name": "python3"
  },
  "language_info": {
   "codemirror_mode": {
    "name": "ipython",
    "version": 3
   },
   "file_extension": ".py",
   "mimetype": "text/x-python",
   "name": "python",
   "nbconvert_exporter": "python",
   "pygments_lexer": "ipython3",
   "version": "3.12.4"
  }
 },
 "nbformat": 4,
 "nbformat_minor": 2
}
