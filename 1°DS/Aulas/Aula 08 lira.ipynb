{
 "cells": [
  {
   "cell_type": "markdown",
   "metadata": {},
   "source": [
    "# Aula 08 - Introdução a Estrutura de Dados"
   ]
  },
  {
   "cell_type": "markdown",
   "metadata": {},
   "source": [
    "## Fila (FIFO) "
   ]
  },
  {
   "cell_type": "code",
   "execution_count": 6,
   "metadata": {},
   "outputs": [],
   "source": [
    "class Fila:\n",
    "    def __init__(self):\n",
    "        self.fila = []\n",
    "        \n",
    "    def enfileirar(self, item):\n",
    "        self.fila.append(item)\n",
    "        print(f\"{item} foi adicionado à fila\")\n",
    "    \n",
    "    def vazio(self):\n",
    "        return len(self.fila) == 0\n",
    "    \n",
    "    def desinfileirar(self):\n",
    "        if not self.vazio():\n",
    "            item = self.fila.pop(0)\n",
    "            print(f\"{item} foi removido da fila\")\n",
    "        else:\n",
    "            print(\"A lista está vazia\")\n",
    "            return None\n",
    "        \n",
    "    def tamanho(self):\n",
    "        return len(self.fila)            \n",
    "        \n",
    "        "
   ]
  },
  {
   "cell_type": "markdown",
   "metadata": {},
   "source": [
    "### Atividade 1"
   ]
  },
  {
   "cell_type": "markdown",
   "metadata": {},
   "source": [
    "> Joãozinho está no mercado entre Vó Maria e Caique que chegou logo atrás para ir ao caixa. Tendo como fila a estrutura de dados. Adicione os três a fila nessa ordem e atenda a Vó Maria, e depois mostre o tamanho dela."
   ]
  },
  {
   "cell_type": "code",
   "execution_count": 7,
   "metadata": {},
   "outputs": [
    {
     "name": "stdout",
     "output_type": "stream",
     "text": [
      "Vó Maria foi adicionado à fila\n",
      "Joãozinho foi adicionado à fila\n",
      "Caique foi adicionado à fila\n",
      "Vó Maria foi removido da fila\n"
     ]
    },
    {
     "data": {
      "text/plain": [
       "2"
      ]
     },
     "execution_count": 7,
     "metadata": {},
     "output_type": "execute_result"
    }
   ],
   "source": [
    "fila = Fila()\n",
    "fila.enfileirar('Vó Maria')\n",
    "fila.enfileirar('Joãozinho')\n",
    "fila.enfileirar('Caique')\n",
    "fila.desinfileirar()\n",
    "fila.tamanho()"
   ]
  },
  {
   "cell_type": "code",
   "execution_count": 1,
   "metadata": {},
   "outputs": [],
   "source": [
    "class Fila:\n",
    "    def __init__(self):\n",
    "        self.fila = []\n",
    "        \n",
    "    def enfileirar(self, item):\n",
    "        self.fila.append(item)\n",
    "        print(f\"{item} chegou no caixa\")\n",
    "    \n",
    "    def vazio(self):\n",
    "        return len(self.fila) == 0\n",
    "    \n",
    "    def desinfileirar(self):\n",
    "        if not self.vazio():\n",
    "            item = self.fila.pop(0)\n",
    "            print(f\"{item} foi atendido no caixa\")\n",
    "            return item\n",
    "        else:\n",
    "            print(\"O caixa está livre\")\n",
    "            return None\n",
    "    def tamanho(self):\n",
    "        \n",
    "        if len(self.fila)==0:\n",
    "            print(\"O caixa está livre\")\n",
    "        else:\n",
    "            print(f\"Tem {len(self.fila)} pessoas na fila\")\n",
    "        "
   ]
  },
  {
   "cell_type": "code",
   "execution_count": 26,
   "metadata": {},
   "outputs": [
    {
     "name": "stdout",
     "output_type": "stream",
     "text": [
      "A lista está vazia\n",
      "A lista está vazia\n"
     ]
    },
    {
     "data": {
      "text/plain": [
       "0"
      ]
     },
     "execution_count": 26,
     "metadata": {},
     "output_type": "execute_result"
    }
   ],
   "source": [
    "fila.desinfileirar()\n",
    "fila.desinfileirar()\n",
    "fila.tamanho()"
   ]
  },
  {
   "cell_type": "markdown",
   "metadata": {},
   "source": [
    "## FIFO utilizando Collections deque"
   ]
  },
  {
   "cell_type": "code",
   "execution_count": 23,
   "metadata": {},
   "outputs": [],
   "source": [
    "from collections import deque\n",
    "\n",
    "class Farmacia:\n",
    "    def __init__(self):\n",
    "        self.farmacia = deque()\n",
    "        \n",
    "    def aguardar(self, nome):\n",
    "        self.farmacia.append(nome)\n",
    "        print(f\"(nome) está na fila\")\n",
    "        \n",
    "    def vazio(self):\n",
    "        return len(self.farmacia) == 0\n",
    "    \n",
    "    def atender(self):\n",
    "        if not self.vazio():\n",
    "            nome = self.farmacia.popleft()\n",
    "            print(f\"{nome} foi atendido(a)\")\n",
    "        else:\n",
    "            print(\"O(A) atendente está livre\")\n",
    "            \n",
    "        def tamanho(self):\n",
    "            if len(self.farmacia)==0:\n",
    "                print(\"A fila está vazia\")\n",
    "            else:\n",
    "                print(f\"Tem {len(self.farmacia)} pessoas na fila\")\n",
    "        "
   ]
  },
  {
   "cell_type": "markdown",
   "metadata": {},
   "source": [
    "### Atividade 2 - Atendimento da Farmácia"
   ]
  },
  {
   "cell_type": "markdown",
   "metadata": {},
   "source": [
    "> Ao abrir a farmácia pela manhã, a balconista recebe 5 pessoas. 3 delas são atendidas e vão ao caixa. As demais estão aguardando para ser atendidas. Inclua o nome das 5 pessoas, atenda as 3 e depois mostre o tamanho da fila. "
   ]
  },
  {
   "cell_type": "code",
   "execution_count": 28,
   "metadata": {},
   "outputs": [
    {
     "name": "stdout",
     "output_type": "stream",
     "text": [
      "Pessoas atendidas: ['Alice', 'Bruno', 'Carla']\n",
      "Pessoas na fila: ['David', 'Eva']\n",
      "Tamanho da fila: 2\n"
     ]
    }
   ],
   "source": [
    "farmacia = Farmacia []\n",
    "farmacia\n"
   ]
  },
  {
   "cell_type": "markdown",
   "metadata": {},
   "source": [
    "## Pilha (LIFO)"
   ]
  },
  {
   "cell_type": "code",
   "execution_count": null,
   "metadata": {},
   "outputs": [],
   "source": [
    "class Editor:\n",
    "    def __init__(self):\n",
    "        self.texto = \"\"\n",
    "        self.historico = []\n",
    "        \n",
    "    def escrever(self, texto):\n",
    "        self.historico.append(self.texto)\n",
    "        self.texto += texto\n",
    "    \n",
    "    def desfazer(self):\n",
    "        if self.historico:\n",
    "            self.texto = self.historico.pop()\n",
    "        else:\n",
    "            self.texto = \"\"\n",
    "            \n",
    "    def visualizar(self):\n",
    "        print(self.texto)\n",
    "        "
   ]
  }
 ],
 "metadata": {
  "kernelspec": {
   "display_name": "Python 3",
   "language": "python",
   "name": "python3"
  },
  "language_info": {
   "codemirror_mode": {
    "name": "ipython",
    "version": 3
   },
   "file_extension": ".py",
   "mimetype": "text/x-python",
   "name": "python",
   "nbconvert_exporter": "python",
   "pygments_lexer": "ipython3",
   "version": "3.12.4"
  }
 },
 "nbformat": 4,
 "nbformat_minor": 2
}
