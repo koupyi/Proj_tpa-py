{
 "cells": [
  {
   "cell_type": "markdown",
   "metadata": {},
   "source": [
    "## Introdução á Árvore Binária"
   ]
  },
  {
   "cell_type": "markdown",
   "metadata": {},
   "source": [
    "> Árvores são essênciais para a organização de dados de forma alfabética ou numeral. Através de nós um valor é comparado ao nó inicial. Após verificar se o valor é maior ou menor que o nó ele será reposicionado na memória a esquerda (menor) ou a direita (maior) que o nó inicial. Assim possibilita a organização dos dadosdebtri de yna kusta como o método .sort(). Após isso ele se torna um nó podendo utilizar o método debtri deke mesmo, chamado de recursividade"
   ]
  },
  {
   "cell_type": "code",
   "execution_count": 35,
   "metadata": {},
   "outputs": [],
   "source": [
    "class No:\n",
    "    def __init__(self, valor):\n",
    "        self.esquerda = None\n",
    "        self.direita = None\n",
    "        self.valor = valor"
   ]
  },
  {
   "cell_type": "markdown",
   "metadata": {},
   "source": [
    "### Inserindo o método inserir"
   ]
  },
  {
   "cell_type": "code",
   "execution_count": 36,
   "metadata": {},
   "outputs": [],
   "source": [
    "def inserir(raiz, chave):\n",
    "    if raiz is None:\n",
    "        return No(chave)\n",
    "    else:\n",
    "        if chave < raiz.valor:\n",
    "            raiz.esquerda = inserir(raiz.esquerda, chave)\n",
    "        else:\n",
    "            raiz.direita = inserir(raiz.direita, chave)\n",
    "    return raiz"
   ]
  },
  {
   "cell_type": "markdown",
   "metadata": {},
   "source": [
    "### Método de ordenação"
   ]
  },
  {
   "cell_type": "code",
   "execution_count": 37,
   "metadata": {},
   "outputs": [],
   "source": [
    "def ordenar(raiz):\n",
    "    if raiz:\n",
    "        ordenar(raiz.esquerda)\n",
    "        print(raiz.valor, end=\" \")\n",
    "        ordenar(raiz.direita)"
   ]
  },
  {
   "cell_type": "markdown",
   "metadata": {},
   "source": [
    "### Método Principal"
   ]
  },
  {
   "cell_type": "code",
   "execution_count": 38,
   "metadata": {},
   "outputs": [
    {
     "name": "stdout",
     "output_type": "stream",
     "text": [
      "Em ordem -> 0 1 2 7 8 9 10 \n"
     ]
    }
   ],
   "source": [
    "if __name__ == '__main__':\n",
    " raiz = None\n",
    " valores = [10,7,8,2,1,0,9]\n",
    "\n",
    "for x in valores:\n",
    "   raiz = inserir(raiz, x)\n",
    "\n",
    "print(\"Em ordem ->\", end=\" \")\n",
    "ordenar(raiz)\n",
    "print()"
   ]
  },
  {
   "cell_type": "markdown",
   "metadata": {},
   "source": [
    "### Inserindo valores aleatorios"
   ]
  },
  {
   "cell_type": "code",
   "execution_count": 39,
   "metadata": {},
   "outputs": [
    {
     "name": "stdout",
     "output_type": "stream",
     "text": [
      "5\n"
     ]
    }
   ],
   "source": [
    "import random\n",
    "aleatorio = random.randint(1,10)\n",
    "print(aleatorio)"
   ]
  },
  {
   "cell_type": "markdown",
   "metadata": {},
   "source": [
    "### Exercicio 1"
   ]
  },
  {
   "cell_type": "markdown",
   "metadata": {},
   "source": [
    "> Crie um metodo que insira 10 valores aleatorios de 0 a 100. Apos isso organize-os e mostre-os."
   ]
  },
  {
   "cell_type": "code",
   "execution_count": 40,
   "metadata": {},
   "outputs": [
    {
     "name": "stdout",
     "output_type": "stream",
     "text": [
      "Em ordem -> 0 6 14 16 30 41 49 59 62 76 \n"
     ]
    }
   ],
   "source": [
    "import random as y\n",
    "if __name__ == '__main__':\n",
    " raiz = None\n",
    " lista = []\n",
    "\n",
    "for x in range(10):\n",
    "   lista.append(y.randint(0,100))\n",
    "\n",
    "for x in lista:\n",
    "   raiz = inserir(raiz, x)\n",
    "\n",
    "print(\"Em ordem ->\", end=\" \", )\n",
    "ordenar(raiz)\n",
    "print()"
   ]
  },
  {
   "cell_type": "markdown",
   "metadata": {},
   "source": [
    "### Exercicio 2"
   ]
  },
  {
   "cell_type": "markdown",
   "metadata": {},
   "source": [
    "> Crie um metodo que insira 5 valores aleatorios de 0 a 10. Apos isso organize-os de forma decrescente e mostre-os"
   ]
  },
  {
   "cell_type": "code",
   "execution_count": 41,
   "metadata": {},
   "outputs": [],
   "source": [
    "def ordenar(raiz):\n",
    "    if raiz:\n",
    "        ordenar(raiz.direita)\n",
    "        print(raiz.valor, end=\" \")\n",
    "        ordenar(raiz.esquerda)"
   ]
  },
  {
   "cell_type": "code",
   "execution_count": 42,
   "metadata": {},
   "outputs": [
    {
     "name": "stdout",
     "output_type": "stream",
     "text": [
      "Em ordem decrescente-> 93 93 84 84 72 68 39 23 6 1 \n"
     ]
    }
   ],
   "source": [
    "import random as y\n",
    "if __name__ == '__main__':\n",
    " raiz = None\n",
    " lista = []\n",
    "\n",
    "for x in range(10):\n",
    "   lista.append(y.randint(0,100))\n",
    "\n",
    "for x in lista:\n",
    "   raiz = inserir(raiz, x)\n",
    "\n",
    "print(\"Em ordem decrescente->\", end=\" \", )\n",
    "\n",
    "ordenar(raiz)\n",
    "print()"
   ]
  }
 ],
 "metadata": {
  "kernelspec": {
   "display_name": "Python 3",
   "language": "python",
   "name": "python3"
  },
  "language_info": {
   "codemirror_mode": {
    "name": "ipython",
    "version": 3
   },
   "file_extension": ".py",
   "mimetype": "text/x-python",
   "name": "python",
   "nbconvert_exporter": "python",
   "pygments_lexer": "ipython3",
   "version": "3.12.4"
  }
 },
 "nbformat": 4,
 "nbformat_minor": 2
}
