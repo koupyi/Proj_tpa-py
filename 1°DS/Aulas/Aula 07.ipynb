{
 "cells": [
  {
   "cell_type": "markdown",
   "metadata": {},
   "source": [
    "# Introdução a tabela hash"
   ]
  },
  {
   "cell_type": "code",
   "execution_count": 1,
   "metadata": {},
   "outputs": [
    {
     "ename": "SyntaxError",
     "evalue": "invalid syntax (809357082.py, line 3)",
     "output_type": "error",
     "traceback": [
      "\u001b[1;36m  Cell \u001b[1;32mIn[1], line 3\u001b[1;36m\u001b[0m\n\u001b[1;33m    def _init_(self, size-10)\u001b[0m\n\u001b[1;37m                         ^\u001b[0m\n\u001b[1;31mSyntaxError\u001b[0m\u001b[1;31m:\u001b[0m invalid syntax\n"
     ]
    }
   ],
   "source": [
    "class hashTable:\n",
    "    # metodo\n",
    "    def _init_(self, size-10)\n",
    "    self.size = size:\n",
    "\n",
    "    # metodo de inserir valor\n",
    "    def insert\n",
    "\n",
    "\n",
    "    # Metodo de busca de valor atravez da chave\n",
    "    def get(self, key):\n",
    "        index = self._has(key)\n",
    "    for y in self.table[index]:\n",
    "        if y[0] == key:\n",
    "            return y[1]\n",
    "\n",
    "if __name__ == \"__main__\":\n",
    "    biblioteca = HashTable()\n",
    "    biblioteca.insert(\"A\", \"Alice no Pais das maravilhas\")\n",
    "    biblioteca.insert(\"M\", \"Marcelino pão e vihnho\")\n",
    "    biblioteca.insert(\"O\", \"O codigo da vinci\")\n",
    "\n",
    "    print(biblioteca.get(\"A\"))\n",
    "    print(biblioteca.get(\"B\"))\n",
    "\n",
    "    biblioteca.remove(\"A\")\n",
    "    print(biblioteca.get(\"A\"))\n",
    "\n"
   ]
  }
 ],
 "metadata": {
  "kernelspec": {
   "display_name": "Python 3",
   "language": "python",
   "name": "python3"
  },
  "language_info": {
   "codemirror_mode": {
    "name": "ipython",
    "version": 3
   },
   "file_extension": ".py",
   "mimetype": "text/x-python",
   "name": "python",
   "nbconvert_exporter": "python",
   "pygments_lexer": "ipython3",
   "version": "3.12.4"
  }
 },
 "nbformat": 4,
 "nbformat_minor": 2
}
