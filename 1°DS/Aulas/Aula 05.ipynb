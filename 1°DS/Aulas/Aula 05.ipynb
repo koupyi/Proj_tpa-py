{
 "cells": [
  {
   "cell_type": "markdown",
   "metadata": {},
   "source": [
    "# Aula 05 -  introdução ao List Comprehension e Format "
   ]
  },
  {
   "cell_type": "markdown",
   "metadata": {},
   "source": [
    "> uma forma mais simples de realizar conversões de valorn entre duas ou mais listas. Atualmente é uma das formas mais rapida de aplicar conversões, substitundo as declarações mais extensas do que o metodo convencional, lambda e map."
   ]
  },
  {
   "cell_type": "markdown",
   "metadata": {},
   "source": [
    "## Exemplo 1"
   ]
  },
  {
   "cell_type": "code",
   "execution_count": null,
   "metadata": {},
   "outputs": [],
   "source": [
    "\n",
    "celsius = [10,20,30,40,50]\n",
    "fh = [round(x*1.8+32,2) for x in celsius]\n",
    "print(fh)\n"
   ]
  },
  {
   "cell_type": "markdown",
   "metadata": {},
   "source": [
    "## Exemplo 2 - conversão de kmh para mp"
   ]
  },
  {
   "cell_type": "code",
   "execution_count": null,
   "metadata": {},
   "outputs": [],
   "source": [
    "kmh = [100, 60, 80, 30]\n",
    "mph = [round(x/1.61) for x in kmh]\n",
    "print(mph)"
   ]
  },
  {
   "cell_type": "code",
   "execution_count": null,
   "metadata": {},
   "outputs": [],
   "source": [
    "print(\"{:<6}{:<6}\".format(\"kmh\",\"mph\"))\n",
    "print(\"=========\")\n",
    "x = 0\n",
    "while(x<len(kmh)):\n",
    "    print (\"{:<6}{:<6}\". format(kmh[x],mph[x]))\n",
    "    x += 1 "
   ]
  },
  {
   "cell_type": "markdown",
   "metadata": {},
   "source": [
    "# Celsius para fahrenhaint"
   ]
  },
  {
   "cell_type": "code",
   "execution_count": null,
   "metadata": {},
   "outputs": [],
   "source": [
    "print(\"{:<10}{:<6}\".format(\"celsius\",\"fh\"))\n",
    "print(\"===============\")\n",
    "x = 0\n",
    "while(x<len(celsius)):\n",
    "    print (\"{:<10}{:<6}\". format(celsius[x],fh[x]))\n",
    "    x += 1 "
   ]
  }
 ],
 "metadata": {
  "kernelspec": {
   "display_name": "Python 3",
   "language": "python",
   "name": "python3"
  },
  "language_info": {
   "codemirror_mode": {
    "name": "ipython",
    "version": 3
   },
   "file_extension": ".py",
   "mimetype": "text/x-python",
   "name": "python",
   "nbconvert_exporter": "python",
   "pygments_lexer": "ipython3",
   "version": "3.12.2"
  }
 },
 "nbformat": 4,
 "nbformat_minor": 2
}
