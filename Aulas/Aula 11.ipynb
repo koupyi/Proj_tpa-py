{
 "cells": [
  {
   "cell_type": "code",
   "execution_count": null,
   "metadata": {},
   "outputs": [
    {
     "ename": "SyntaxError",
     "evalue": "invalid syntax. Perhaps you forgot a comma? (3113646290.py, line 20)",
     "output_type": "error",
     "traceback": [
      "\u001b[1;36m  Cell \u001b[1;32mIn[119], line 20\u001b[1;36m\u001b[0m\n\u001b[1;33m    print(caixaNormal[], caixaRapido[], caixaIdosos[])\u001b[0m\n\u001b[1;37m          ^\u001b[0m\n\u001b[1;31mSyntaxError\u001b[0m\u001b[1;31m:\u001b[0m invalid syntax. Perhaps you forgot a comma?\n"
     ]
    }
   ],
   "source": [
    "class Mercado:\n",
    "    def __init__(self):\n",
    "        caixaIdoso = []\n",
    "        caixaRapido = []\n",
    "        caixaNormal = []\n",
    "\n",
    "    def cliente(self, idade, nome, unidade):\n",
    "        if idade >= 60:\n",
    "            self.caixaIdosos.append((nome, idade, unidade))\n",
    "            print(f\"{nome} Adicionado ao caixa de idosos\")\n",
    "        elif unidade <= 20:\n",
    "            self.caixaRapido.append((nome, idade, unidade))\n",
    "            print(f\"{nome} Adicionado ao caixa rápido\")\n",
    "        else:\n",
    "            self.caixaNormal.append((nome, idade, unidade))\n",
    "            print(f\"{nome} Adicionado ao caixa normal\")\n",
    "\n",
    "\n",
    "    def mostrar():\n",
    "            print(f\"caixaNormal, caixaRapido[], caixaIdosos[])\n",
    "\n",
    "    \n",
    "if __name__ == \"__main__\":\n",
    "\n",
    "    cliente = [\n",
    "        (\"Marcos\", 20, 12),\n",
    "        (\"Leonardo\",30,30),\n",
    "        (\"Mauricio\",25,32),\n",
    "        (\"Gustavo\",38,10),\n",
    "        (\"Rogerio\",42,19),\n",
    "        (\"Matheus\",83,18),\n",
    "        (\"Leandro\",92,44),\n",
    "        (\"Thiago\",65,53),\n",
    "        (\"Guilherme\",53,65),\n",
    "        (\"Ricardo\",90,15)\n",
    "    ]\n"
   ]
  },
  {
   "cell_type": "code",
   "execution_count": 117,
   "metadata": {},
   "outputs": [
    {
     "ename": "NameError",
     "evalue": "name 'caixaNormal' is not defined",
     "output_type": "error",
     "traceback": [
      "\u001b[1;31m---------------------------------------------------------------------------\u001b[0m",
      "\u001b[1;31mNameError\u001b[0m                                 Traceback (most recent call last)",
      "Cell \u001b[1;32mIn[117], line 1\u001b[0m\n\u001b[1;32m----> 1\u001b[0m \u001b[43mMercado\u001b[49m\u001b[38;5;241;43m.\u001b[39;49m\u001b[43mmostrar\u001b[49m\u001b[43m(\u001b[49m\u001b[43m)\u001b[49m\n",
      "Cell \u001b[1;32mIn[116], line 20\u001b[0m, in \u001b[0;36mMercado.mostrar\u001b[1;34m()\u001b[0m\n\u001b[0;32m     19\u001b[0m \u001b[38;5;28;01mdef\u001b[39;00m \u001b[38;5;21mmostrar\u001b[39m():\n\u001b[1;32m---> 20\u001b[0m         \u001b[38;5;28mprint\u001b[39m(\u001b[43mcaixaNormal\u001b[49m, caixaRapido, caixaIdosos)\n",
      "\u001b[1;31mNameError\u001b[0m: name 'caixaNormal' is not defined"
     ]
    }
   ],
   "source": [
    "Mercado.mostrar()"
   ]
  }
 ],
 "metadata": {
  "kernelspec": {
   "display_name": "Python 3",
   "language": "python",
   "name": "python3"
  },
  "language_info": {
   "codemirror_mode": {
    "name": "ipython",
    "version": 3
   },
   "file_extension": ".py",
   "mimetype": "text/x-python",
   "name": "python",
   "nbconvert_exporter": "python",
   "pygments_lexer": "ipython3",
   "version": "3.12.4"
  }
 },
 "nbformat": 4,
 "nbformat_minor": 2
}
