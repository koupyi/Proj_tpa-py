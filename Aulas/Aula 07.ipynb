{
 "cells": [
  {
   "cell_type": "markdown",
   "metadata": {},
   "source": [
    "# Introdução a tabela hash"
   ]
  },
  {
   "cell_type": "code",
   "execution_count": null,
   "metadata": {},
   "outputs": [],
   "source": [
    "class hashTable:\n",
    "    # metodo\n",
    "    def _init_(self, size-10)\n",
    "    self.size = size:\n",
    "\n",
    "    # metodo de inserir valor\n",
    "    def insert\n",
    "\n",
    "\n",
    "    # Metodo de busca de valor atravez da chave\n",
    "    def get(self, key):\n",
    "        index = self._has(key)\n",
    "    for y in self.table[index]:\n",
    "        if y[0] == key:\n",
    "            return y[1]\n",
    "\n",
    "if __name__ == \"__main__\":\n",
    "    biblioteca = HashTable()\n",
    "    biblioteca.insert(\"A\", \"Alice no Pais das maravilhas\")\n",
    "    biblioteca.insert(\"M\", \"Marcelino pão e vihnho\")\n",
    "    biblioteca.insert(\"O\", \"O codigo da vinci\")\n",
    "\n",
    "    print(biblioteca.get(\"A\"))\n",
    "    print(biblioteca.get(\"B\"))\n",
    "\n",
    "    biblioteca.remove(\"A\")\n",
    "    print(biblioteca.get(\"A\"))\n",
    "\n",
    "\n",
    "#sla  \n",
    "           del self.table[index][i]\n",
    "            return True\n",
    "    return False"
   ]
  }
 ],
 "metadata": {
  "language_info": {
   "name": "python"
  }
 },
 "nbformat": 4,
 "nbformat_minor": 2
}
