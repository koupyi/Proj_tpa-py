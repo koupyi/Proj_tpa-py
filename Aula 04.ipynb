{
 "cells": [
  {
   "cell_type": "markdown",
   "metadata": {},
   "source": [
    "# Aula 04 - Introdução a Funções e Funções Lambda"
   ]
  },
  {
   "cell_type": "markdown",
   "metadata": {},
   "source": [
    "> Uma função é uma ação que realizado, através de parâmetros de entrada ou parâmetros vazios retornam uma rotina (código preestabelecido). "
   ]
  },
  {
   "cell_type": "code",
   "execution_count": 19,
   "metadata": {},
   "outputs": [],
   "source": [
    "def somar():\n",
    "    x = 2\n",
    "    y = 2\n",
    "    res = x + y\n",
    "    print(res)"
   ]
  },
  {
   "cell_type": "code",
   "execution_count": 20,
   "metadata": {},
   "outputs": [
    {
     "name": "stdout",
     "output_type": "stream",
     "text": [
      "4\n"
     ]
    }
   ],
   "source": [
    "somar()"
   ]
  },
  {
   "cell_type": "code",
   "execution_count": 21,
   "metadata": {},
   "outputs": [],
   "source": [
    "def adicao(x,y):\n",
    "    res = x + y\n",
    "    print (res) "
   ]
  },
  {
   "cell_type": "code",
   "execution_count": 22,
   "metadata": {},
   "outputs": [
    {
     "name": "stdout",
     "output_type": "stream",
     "text": [
      "4\n"
     ]
    }
   ],
   "source": [
    "adicao(2,2)"
   ]
  },
  {
   "cell_type": "code",
   "execution_count": 23,
   "metadata": {},
   "outputs": [],
   "source": [
    "def subtracao(x,y):\n",
    "    res = x - y\n",
    "    print(res)\n",
    "\n",
    "def multiplicacao(x,y):\n",
    "    res = x * y\n",
    "    print(res)\n",
    "\n",
    "def divisao(x,y):\n",
    "    res = x / y\n",
    "    print(res)\n"
   ]
  },
  {
   "cell_type": "code",
   "execution_count": 24,
   "metadata": {},
   "outputs": [
    {
     "name": "stdout",
     "output_type": "stream",
     "text": [
      "8\n",
      "5.0\n",
      "3\n"
     ]
    }
   ],
   "source": [
    "multiplicacao(4,2)\n",
    "divisao(10,2)\n",
    "subtracao(5,2)"
   ]
  },
  {
   "cell_type": "markdown",
   "metadata": {},
   "source": [
    "## Função Lambda"
   ]
  },
  {
   "cell_type": "markdown",
   "metadata": {},
   "source": [
    "> Uma função lambda é uma forma rápida de criar funções utilizando menos recurso e quantidade de comandos."
   ]
  },
  {
   "cell_type": "code",
   "execution_count": 25,
   "metadata": {},
   "outputs": [],
   "source": [
    "menos = lambda x,y: x-y"
   ]
  },
  {
   "cell_type": "code",
   "execution_count": 26,
   "metadata": {},
   "outputs": [
    {
     "name": "stdout",
     "output_type": "stream",
     "text": [
      "3\n"
     ]
    }
   ],
   "source": [
    "print(menos(5,2))"
   ]
  },
  {
   "cell_type": "code",
   "execution_count": 27,
   "metadata": {},
   "outputs": [],
   "source": [
    "delta = lambda a,b,c: (b*b) - (4*a*c)"
   ]
  },
  {
   "cell_type": "code",
   "execution_count": 28,
   "metadata": {},
   "outputs": [
    {
     "name": "stdout",
     "output_type": "stream",
     "text": [
      "-48\n"
     ]
    }
   ],
   "source": [
    "print(delta(2,4,8))"
   ]
  },
  {
   "cell_type": "markdown",
   "metadata": {},
   "source": [
    "## Exercício"
   ]
  },
  {
   "cell_type": "markdown",
   "metadata": {},
   "source": [
    "> Crie um código chamado baskhara, ele deverá ter uma rotina que ao ser criada retornará x' e x\". Os valores de entrada deverão ser os de delta (a,b,c) e o x. Se o usuário escolher 1 deverá retornar x\". Insira todas as regras de baskhara. "
   ]
  },
  {
   "cell_type": "code",
   "execution_count": 29,
   "metadata": {},
   "outputs": [],
   "source": [
    "import math\n",
    "def baskhara(a,b,c,x):\n",
    "    if(a==0):\n",
    "        res = \"Impossivel\"\n",
    "    else:\n",
    "        delta = (b*b) - (4*a*c)\n",
    "        if(delta < 0):\n",
    "            res = \"Impossivel\"\n",
    "        else:\n",
    "            if(x==1):\n",
    "                res = (-b+math.sqrt (delta))/(2*a) \n",
    "            if(x==2):\n",
    "                res = (-b-math.sqrt (delta))/(2*a) \n",
    "    return res"
   ]
  },
  {
   "cell_type": "code",
   "execution_count": 35,
   "metadata": {},
   "outputs": [
    {
     "data": {
      "text/plain": [
       "-18.20725261669446"
      ]
     },
     "execution_count": 35,
     "metadata": {},
     "output_type": "execute_result"
    }
   ],
   "source": [
    "baskhara(7,128,10,2)"
   ]
  },
  {
   "cell_type": "markdown",
   "metadata": {},
   "source": [
    "# Funções Map"
   ]
  },
  {
   "cell_type": "code",
   "execution_count": 38,
   "metadata": {},
   "outputs": [
    {
     "name": "stdout",
     "output_type": "stream",
     "text": [
      "[24.84, 31.06, 46.58, 62.11, 124.22]\n"
     ]
    }
   ],
   "source": [
    "kmh = [40,50,75,100,200]\n",
    "mph =[]\n",
    "for i in kmh:\n",
    "    mph.append(round(i/1.61,2))\n",
    "print(mph)"
   ]
  },
  {
   "cell_type": "code",
   "execution_count": 40,
   "metadata": {},
   "outputs": [
    {
     "name": "stdout",
     "output_type": "stream",
     "text": [
      "[24.84, 31.06, 46.58, 62.11, 124.22]\n"
     ]
    }
   ],
   "source": [
    "mph2 = list(map(lambda x: round(x/1.61,2),kmh))\n",
    "print(mph)"
   ]
  },
  {
   "cell_type": "markdown",
   "metadata": {},
   "source": [
    "### Exercicio"
   ]
  },
  {
   "cell_type": "markdown",
   "metadata": {},
   "source": [
    ">Crie um programa que calcule 5 valores dentro de uma lista chamada celsius. crie uma nova lista vazia chamada fehrenheit e armazene a conversão dos valores de celsius utilizando lambda com map. No final exiba o valor da lista de fehrenheit"
   ]
  },
  {
   "cell_type": "code",
   "execution_count": 1,
   "metadata": {},
   "outputs": [
    {
     "name": "stdout",
     "output_type": "stream",
     "text": [
      "[79, 86, 59, 45, 68]\n"
     ]
    }
   ],
   "source": [
    "celsius = [26, 30, 15, 7, 20]\n",
    "fh =[]\n",
    "for y in celsius:\n",
    "    fh = list(map(lambda y: round(y*1.8+32),celsius))\n",
    "print(fh)"
   ]
  }
 ],
 "metadata": {
  "kernelspec": {
   "display_name": "Python 3",
   "language": "python",
   "name": "python3"
  },
  "language_info": {
   "codemirror_mode": {
    "name": "ipython",
    "version": 3
   },
   "file_extension": ".py",
   "mimetype": "text/x-python",
   "name": "python",
   "nbconvert_exporter": "python",
   "pygments_lexer": "ipython3",
   "version": "3.12.4"
  }
 },
 "nbformat": 4,
 "nbformat_minor": 2
}
