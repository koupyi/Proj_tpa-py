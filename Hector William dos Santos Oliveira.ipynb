{
 "cells": [
  {
   "cell_type": "markdown",
   "metadata": {},
   "source": [
    "# Hector W. S. Oliveira"
   ]
  },
  {
   "cell_type": "markdown",
   "metadata": {},
   "source": [
    "> Dicionarios e tuplas"
   ]
  },
  {
   "cell_type": "markdown",
   "metadata": {},
   "source": [
    "## Exercicio"
   ]
  },
  {
   "cell_type": "markdown",
   "metadata": {},
   "source": [
    "### Parte 1"
   ]
  },
  {
   "cell_type": "code",
   "execution_count": null,
   "metadata": {},
   "outputs": [
    {
     "name": "stdout",
     "output_type": "stream",
     "text": [
      "Matricula: \n",
      "{'codigo': '1512', 'data': '10/8', 'curso': 'DS'}\n",
      "Aluno: \n",
      "{'registro': '41231', 'nome': 'Hector'}\n",
      "Disciplina: \n",
      "{'registro': '3234', 'nome': 'Hector', 'professor': 'Gustavo'}\n"
     ]
    }
   ],
   "source": [
    "matriculas = {\n",
    "    \"codigo\":\"1512\",\n",
    "    \"data\":\"10/8\",\n",
    "    \"curso\":\"DS\"\n",
    "}\n",
    "aluno = {\n",
    "    \"registro\":\"41231\",\n",
    "    \"nome\":\"Hector\"\n",
    "}\n",
    "\n",
    "diciplina = {\n",
    "  \"registro\":\"3234\",\n",
    "  \"nome\":\"Hector\",\n",
    "  \"professor\":\"Gustavo\"\n",
    "}\n",
    "\n",
    "escola = (\"Matricula: \",matriculas,\"Aluno: \",aluno,\"Disciplina: \",diciplina)\n",
    "for z in escola:\n",
    "  print(z)"
   ]
  },
  {
   "cell_type": "markdown",
   "metadata": {},
   "source": [
    "### Parte 2"
   ]
  },
  {
   "cell_type": "code",
   "execution_count": null,
   "metadata": {},
   "outputs": [
    {
     "name": "stdout",
     "output_type": "stream",
     "text": [
      "Vendedor: \n",
      "{'registro': '4231', 'nome': 'João', 'curso': 'Vendas'}\n",
      "Produto: \n",
      "{'id': '42332', 'nome': 'Caderno', 'fabricante': 'Foroni'}\n",
      "Venda: \n",
      "{'reg_venda': '12314', 'id_produto': '224', 'valor': '10,99'}\n"
     ]
    }
   ],
   "source": [
    "Vendedor = {\n",
    "    \"registro\":\"4231\",\n",
    "    \"nome\":\"João\",\n",
    "    \"curso\":\"Vendas\"\n",
    "}\n",
    "\n",
    "Produto = {\n",
    "    \"id\":\"42332\",\n",
    "    \"nome\":\"Caderno\",\n",
    "    \"fabricante\":\"Foroni\"   \n",
    "}\n",
    "\n",
    "Venda = {\n",
    "    \"reg_venda\":\"12314\",\n",
    "    \"id_produto\":\"224\",\n",
    "    \"valor\":\"10,99\"\n",
    "}\n",
    "\n",
    "casas_baiano = (\"Vendedor: \",Vendedor,\"Produto: \",Produto,\"Venda: \",Venda)\n",
    "for y in casas_baiano:\n",
    "    print(y)"
   ]
  }
 ],
 "metadata": {
  "kernelspec": {
   "display_name": "Python 3",
   "language": "python",
   "name": "python3"
  },
  "language_info": {
   "codemirror_mode": {
    "name": "ipython",
    "version": 3
   },
   "file_extension": ".py",
   "mimetype": "text/x-python",
   "name": "python",
   "nbconvert_exporter": "python",
   "pygments_lexer": "ipython3",
   "version": "3.12.2"
  }
 },
 "nbformat": 4,
 "nbformat_minor": 2
}
