{
 "cells": [
  {
   "cell_type": "markdown",
   "metadata": {},
   "source": [
    "# Aula 05 -  introdução ao List Comprehension e Format "
   ]
  },
  {
   "cell_type": "markdown",
   "metadata": {},
   "source": [
    "> uma forma mais simples de realizar conversões de valorn entre duas ou mais listas. Atualmente é uma das formas mais rapida de aplicar conversões, substitundo as declarações mais extensas do que o metodo convencional, lambda e map."
   ]
  },
  {
   "cell_type": "markdown",
   "metadata": {},
   "source": [
    "## Exemplo 1"
   ]
  },
  {
   "cell_type": "code",
   "execution_count": null,
   "metadata": {},
   "outputs": [],
   "source": [
    "\n",
    "celsius = [10,20,30,40,50]\n",
    "fh = [round(x*1.8+32,2) for x in celsius]\n",
    "print(fh)\n"
   ]
  },
  {
   "cell_type": "markdown",
   "metadata": {},
   "source": [
    "## Exemplo 2 - conversão de kmh para mp"
   ]
  },
  {
   "cell_type": "code",
   "execution_count": null,
   "metadata": {},
   "outputs": [],
   "source": [
    "kmh = [100, 60, 80, 30]\n",
    "mph = [round(x/1.61) for x in kmh]\n",
    "print(mph)"
   ]
  },
  {
   "cell_type": "code",
   "execution_count": null,
   "metadata": {},
   "outputs": [],
   "source": [
    "print(\"{:<6}{:<6}\".format(\"kmh\",\"mph\"))\n",
    "print(\"=========\")\n",
    "x = 0\n",
    "while(x<len(kmh)):\n",
    "    print (\"{:<6}{:<6}\". format(kmh[x],mph[x]))\n",
    "    x += 1 "
   ]
  },
  {
   "cell_type": "markdown",
   "metadata": {},
   "source": [
    "# Celsius para fahrenhaint"
   ]
  },
  {
   "cell_type": "code",
   "execution_count": null,
   "metadata": {},
   "outputs": [],
   "source": [
    "print(\"{:<10}{:<6}\".format(\"celsius\",\"fh\"))\n",
    "print(\"===============\")\n",
    "x = 0\n",
    "while(x<len(celsius)):\n",
    "    print (\"{:<10}{:<6}\". format(celsius[x],fh[x]))\n",
    "    x += 1 "
   ]
  },
  {
   "cell_type": "markdown",
   "metadata": {},
   "source": [
    "### Exercicio 1"
   ]
  },
  {
   "cell_type": "markdown",
   "metadata": {},
   "source": [
    "> Crie uma lista com valores em metros. crie uma tabela de conversão para polegadas, pés, jardas e mílhas maritimas. listando o numero da linha e o cabeçalho da tabela"
   ]
  },
  {
   "cell_type": "code",
   "execution_count": 57,
   "metadata": {},
   "outputs": [
    {
     "name": "stdout",
     "output_type": "stream",
     "text": [
      "metros    polegadas pés       jardas    milhas_maritimas  \n",
      "========================================================\n",
      "10        393.7     32.8      10.9      0.0054            \n",
      "5         196.85    16.4      5.45      0.0027            \n",
      "20        787.4     65.6      21.8      0.0108            \n",
      "25        984.25    82.0      27.25     0.0135            \n",
      "40        1574.8    131.2     43.6      0.0216            \n",
      "45        1771.65   147.6     49.05     0.0243            \n",
      "100       3937.0    328.0     109.0     0.054             \n",
      "72        2834.64   236.16    78.48     0.03888           \n",
      "32        1259.84   104.96    34.88     0.01728           \n",
      "80        3149.6    262.4     87.2      0.0432            \n"
     ]
    }
   ],
   "source": [
    "metros = [10,5,20,25,40,45,100,72,32,80]\n",
    "polegadas = [round(x*39.37,2) for x in metros]\n",
    "pés = [round(x*3.28,2) for x in metros]\n",
    "jardas = [round(x*1.09,2) for x in metros]\n",
    "milhas_maritimas = [round(x/1852,5) for x in metros]\n",
    "\n",
    "print(\"{:<10}{:<10}{:<10}{:<10}{:<18}\".format(\"metros\",\"polegadas\",\"pés\",\"jardas\",\"milhas_maritimas\"))\n",
    "print(\"========================================================\")\n",
    "x = 0\n",
    "while(x<len(metros)):\n",
    "    print(\"{:<10}{:<10}{:<10}{:<10}{:<18}\". format(metros[x],polegadas[x],pés[x],jardas[x],milhas_maritimas[x]))\n",
    "    x += 1 "
   ]
  },
  {
   "cell_type": "markdown",
   "metadata": {},
   "source": [
    "### Exercicio 2"
   ]
  },
  {
   "cell_type": "markdown",
   "metadata": {},
   "source": [
    "> crie um programa com 10 valores em kelvin"
   ]
  },
  {
   "cell_type": "code",
   "execution_count": 63,
   "metadata": {},
   "outputs": [
    {
     "name": "stdout",
     "output_type": "stream",
     "text": [
      "kelvin    celsius   fahrenheit\n",
      "10        -263.15   -441.67   \n",
      "20        -253.15   -423.67   \n",
      "30        -243.15   -405.67   \n",
      "35        -238.15   -396.67   \n",
      "20        -253.15   -423.67   \n",
      "50        -223.15   -369.67   \n",
      "94        -179.15   -290.47   \n",
      "27        -246.15   -411.07   \n",
      "40        -233.15   -387.67   \n",
      "16        -257.15   -430.87   \n"
     ]
    }
   ],
   "source": [
    "kelvin = [10,20,30,35,20,50,94,27,40,16]\n",
    "celsius = [round(x-273.15,2) for x in kelvin]\n",
    "fahrenheit = [round(x*1.8-459.67,2) for x in kelvin]\n",
    "x = 0\n",
    "print(\"{:<10}{:<10}{:<10}\".format(\"kelvin\",\"celsius\",\"fahrenheit\"))\n",
    "while(x<len(kelvin)):\n",
    "    print(\"{:<10}{:<10}{:<10}\".format(kelvin[x],celsius[x],fahrenheit[x]))\n",
    "    x += 1"
   ]
  },
  {
   "cell_type": "markdown",
   "metadata": {},
   "source": [
    "### Exercicio 3"
   ]
  },
  {
   "cell_type": "code",
   "execution_count": 64,
   "metadata": {},
   "outputs": [
    {
     "name": "stdout",
     "output_type": "stream",
     "text": [
      "N°        terra     jupyter   saturno   mercurio  lua       \n",
      "0         10        26        12        4         2         \n",
      "1         20        53        23        7         3         \n",
      "2         35        92        40        13        6         \n",
      "3         50        132       57        18        8         \n",
      "4         55        145       63        20        9         \n",
      "5         83        219       95        31        14        \n",
      "6         73        193       84        27        12        \n",
      "7         65        172       75        24        11        \n",
      "8         29        77        33        11        5         \n",
      "9         70        185       80        26        12        \n"
     ]
    }
   ],
   "source": [
    "terra = [10,20,35,50,55,83,73,65,29,70]\n",
    "massa = [round(x/9.8) for x in terra]\n",
    "júpiter = [round(x*24.79) for x in massa]\n",
    "sataurno = [round(x*10.44) for x in massa]\n",
    "mercurio = [round(x*3.7) for x in massa]\n",
    "lua = [round(x*1.63) for x in massa]\n",
    "x = 0\n",
    "print(\"{:<10}{:<10}{:<10}{:<10}{:<10}{:<10}\".format(\"N°\",\"terra\",\"jupyter\",\"saturno\",\"mercurio\",\"lua\"))\n",
    "while(x<len(terra)):\n",
    "    print(\"{:<10}{:<10}{:<10}{:<10}{:<10}{:<10}\".format(x,terra[x],jupyter[x],staurno[x],mercurio[x],lua[x]))\n",
    "    x += 1"
   ]
  }
 ],
 "metadata": {
  "kernelspec": {
   "display_name": "Python 3",
   "language": "python",
   "name": "python3"
  },
  "language_info": {
   "codemirror_mode": {
    "name": "ipython",
    "version": 3
   },
   "file_extension": ".py",
   "mimetype": "text/x-python",
   "name": "python",
   "nbconvert_exporter": "python",
   "pygments_lexer": "ipython3",
   "version": "3.12.4"
  }
 },
 "nbformat": 4,
 "nbformat_minor": 2
}
